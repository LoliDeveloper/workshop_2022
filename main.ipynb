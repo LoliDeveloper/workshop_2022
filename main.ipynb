{
 "cells": [
  {
   "cell_type": "code",
   "execution_count": null,
   "id": "ee413b61",
   "metadata": {},
   "outputs": [],
   "source": [
    "import numpy as np\n",
    "from matplotlib import pyplot as plt\n",
    "import math\n",
    "import lasio\n",
    "import os\n",
    "import pandas as pd\n",
    "\n",
    "path_to_RIGIS = r'./welldata/RIGIS/'\n",
    "path_to_GIS = r'./welldata/GIS_md/'\n",
    "path_to_welltracks = r'./welldata/welltracks.txt'\n",
    "\n",
    "lasDataFrame = []\n",
    "for file in os.listdir(path_to_RIGIS):\n",
    "    if file.endswith('1.las'):\n",
    "        lasDataFrame = (lasio.read(path_to_RIGIS+file).df())"
   ]
  },
  {
   "cell_type": "code",
   "execution_count": null,
   "id": "bfac029d",
   "metadata": {},
   "outputs": [],
   "source": [
    "def parse_welltracks():\n",
    "    welltracks = []\n",
    "    f = open(path_to_welltracks)\n",
    "    welldata = f.read().split(';')\n",
    "    for well in welldata:\n",
    "        if len(well.split()) > 2:\n",
    "            name = well.split()[2][:-1]\n",
    "            data = well.split()[3:]\n",
    "            x = [float(data[i]) for i in range(len(data)) if i % 4 == 0]\n",
    "            y = [float(data[i]) for i in range(len(data)) if i % 4 == 1]\n",
    "            tvdss = [float(data[i]) for i in range(len(data)) if i % 4 == 2]\n",
    "            md = [float(data[i]) for i in range(len(data)) if i % 4 == 3]\n",
    "            welltracks.append([name, x, y ,tvdss, md])\n",
    "    return welltracks\n"
   ]
  },
  {
   "cell_type": "code",
   "execution_count": null,
   "id": "75186185",
   "metadata": {},
   "outputs": [],
   "source": [
    "from scipy.interpolate import interp1d\n",
    "import math\n",
    "welltracks = parse_welltracks()\n",
    "for tracknum in range(len(welltracks)):\n",
    "    f = interp1d(welltracks[tracknum][4], welltracks[tracknum][3])\n",
    "    x = np.linspace(25, 900)\n",
    "    plt.figure(figsize=(15,9))\n",
    "    plt.plot(x, f(x))\n",
    "    print(f(900))\n",
    "\n",
    "lasDataFrame['KG_T'][lasDataFrame['KG_T'] != 0]\n",
    "#lasDataFrame['KG_T'].index[0]\n",
    "sum = 0\n",
    "for i in range(len(lasDataFrame['KG_T']) - 1):\n",
    "    if (lasDataFrame['KG_T'].array[i + 1] >= 0):\n",
    "        sum += lasDataFrame['KG_T'].index[i + 1] - lasDataFrame['KG_T'].index[i]\n",
    "sum"
   ]
  }
 ],
 "metadata": {
  "kernelspec": {
   "display_name": "Python 3.10.4 64-bit",
   "language": "python",
   "name": "python3"
  },
  "language_info": {
   "codemirror_mode": {
    "name": "ipython",
    "version": 3
   },
   "file_extension": ".py",
   "mimetype": "text/x-python",
   "name": "python",
   "nbconvert_exporter": "python",
   "pygments_lexer": "ipython3",
   "version": "3.10.4"
  },
  "vscode": {
   "interpreter": {
    "hash": "916dbcbb3f70747c44a77c7bcd40155683ae19c65e1c03b4aa3499c5328201f1"
   }
  }
 },
 "nbformat": 4,
 "nbformat_minor": 5
}
