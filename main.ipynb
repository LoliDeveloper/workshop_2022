{
 "cells": [
  {
   "cell_type": "code",
   "execution_count": null,
   "id": "ee413b61",
   "metadata": {},
   "outputs": [],
   "source": [
    "import numpy as np\n",
    "from matplotlib import pyplot as plt\n",
    "import math\n",
    "import scipy\n",
    "import lasio\n",
    "import os\n",
    "import pandas as pd\n",
    "\n",
    "path = r'./welldata/RIGIS/'"
   ]
  },
  {
   "cell_type": "code",
   "execution_count": null,
   "id": "b4af42ca",
   "metadata": {},
   "outputs": [],
   "source": [
    "os.listdir(path)"
   ]
  },
  {
   "cell_type": "code",
   "execution_count": 15,
   "id": "32c24656",
   "metadata": {},
   "outputs": [
    {
     "ename": "FileNotFoundError",
     "evalue": "[WinError 2] The system cannot find the file specified: '1.las'",
     "output_type": "error",
     "traceback": [
      "\u001b[1;31m---------------------------------------------------------------------------\u001b[0m",
      "\u001b[1;31mFileNotFoundError\u001b[0m                         Traceback (most recent call last)",
      "\u001b[1;32mc:\\Users\\evgeny\\workshop_2022\\main.ipynb Cell 3\u001b[0m in \u001b[0;36m<cell line: 1>\u001b[1;34m()\u001b[0m\n\u001b[0;32m      <a href='vscode-notebook-cell:/c%3A/Users/evgeny/workshop_2022/main.ipynb#W1sZmlsZQ%3D%3D?line=0'>1</a>\u001b[0m \u001b[39mfor\u001b[39;00m file \u001b[39min\u001b[39;00m os\u001b[39m.\u001b[39mlistdir(path):\n\u001b[0;32m      <a href='vscode-notebook-cell:/c%3A/Users/evgeny/workshop_2022/main.ipynb#W1sZmlsZQ%3D%3D?line=1'>2</a>\u001b[0m     \u001b[39mif\u001b[39;00m file\u001b[39m.\u001b[39mendswith(\u001b[39m'\u001b[39m\u001b[39m.las\u001b[39m\u001b[39m'\u001b[39m):\n\u001b[1;32m----> <a href='vscode-notebook-cell:/c%3A/Users/evgeny/workshop_2022/main.ipynb#W1sZmlsZQ%3D%3D?line=2'>3</a>\u001b[0m         data \u001b[39m=\u001b[39m lasio\u001b[39m.\u001b[39;49mread(file)\n\u001b[0;32m      <a href='vscode-notebook-cell:/c%3A/Users/evgeny/workshop_2022/main.ipynb#W1sZmlsZQ%3D%3D?line=3'>4</a>\u001b[0m         lasdata \u001b[39m=\u001b[39m data\u001b[39m.\u001b[39mdf()\n\u001b[0;32m      <a href='vscode-notebook-cell:/c%3A/Users/evgeny/workshop_2022/main.ipynb#W1sZmlsZQ%3D%3D?line=4'>5</a>\u001b[0m         lasdata\u001b[39m.\u001b[39mplot(kind\u001b[39m=\u001b[39m\u001b[39m'\u001b[39m\u001b[39mline\u001b[39m\u001b[39m'\u001b[39m)\n",
      "File \u001b[1;32mc:\\Users\\evgeny\\AppData\\Local\\Programs\\Python\\Python39\\lib\\site-packages\\lasio\\__init__.py:86\u001b[0m, in \u001b[0;36mread\u001b[1;34m(file_ref, **kwargs)\u001b[0m\n\u001b[0;32m     63\u001b[0m \u001b[39mdef\u001b[39;00m \u001b[39mread\u001b[39m(file_ref, \u001b[39m*\u001b[39m\u001b[39m*\u001b[39mkwargs):\n\u001b[0;32m     64\u001b[0m     \u001b[39m\"\"\"Read a LAS file.\u001b[39;00m\n\u001b[0;32m     65\u001b[0m \n\u001b[0;32m     66\u001b[0m \u001b[39m    Note that only versions 1.2 and 2.0 of the LAS file specification\u001b[39;00m\n\u001b[1;32m   (...)\u001b[0m\n\u001b[0;32m     84\u001b[0m \n\u001b[0;32m     85\u001b[0m \u001b[39m    \"\"\"\u001b[39;00m\n\u001b[1;32m---> 86\u001b[0m     \u001b[39mreturn\u001b[39;00m LASFile(file_ref, \u001b[39m*\u001b[39m\u001b[39m*\u001b[39mkwargs)\n",
      "File \u001b[1;32mc:\\Users\\evgeny\\AppData\\Local\\Programs\\Python\\Python39\\lib\\site-packages\\lasio\\las.py:80\u001b[0m, in \u001b[0;36mLASFile.__init__\u001b[1;34m(self, file_ref, **read_kwargs)\u001b[0m\n\u001b[0;32m     71\u001b[0m \u001b[39mself\u001b[39m\u001b[39m.\u001b[39msections \u001b[39m=\u001b[39m {\n\u001b[0;32m     72\u001b[0m     \u001b[39m\"\u001b[39m\u001b[39mVersion\u001b[39m\u001b[39m\"\u001b[39m: default_items[\u001b[39m\"\u001b[39m\u001b[39mVersion\u001b[39m\u001b[39m\"\u001b[39m],\n\u001b[0;32m     73\u001b[0m     \u001b[39m\"\u001b[39m\u001b[39mWell\u001b[39m\u001b[39m\"\u001b[39m: default_items[\u001b[39m\"\u001b[39m\u001b[39mWell\u001b[39m\u001b[39m\"\u001b[39m],\n\u001b[1;32m   (...)\u001b[0m\n\u001b[0;32m     76\u001b[0m     \u001b[39m\"\u001b[39m\u001b[39mOther\u001b[39m\u001b[39m\"\u001b[39m: \u001b[39mstr\u001b[39m(default_items[\u001b[39m\"\u001b[39m\u001b[39mOther\u001b[39m\u001b[39m\"\u001b[39m]),\n\u001b[0;32m     77\u001b[0m }\n\u001b[0;32m     79\u001b[0m \u001b[39mif\u001b[39;00m \u001b[39mnot\u001b[39;00m (file_ref \u001b[39mis\u001b[39;00m \u001b[39mNone\u001b[39;00m):\n\u001b[1;32m---> 80\u001b[0m     \u001b[39mself\u001b[39m\u001b[39m.\u001b[39mread(file_ref, \u001b[39m*\u001b[39m\u001b[39m*\u001b[39mread_kwargs)\n",
      "File \u001b[1;32mc:\\Users\\evgeny\\AppData\\Local\\Programs\\Python\\Python39\\lib\\site-packages\\lasio\\las.py:170\u001b[0m, in \u001b[0;36mLASFile.read\u001b[1;34m(self, file_ref, ignore_header_errors, ignore_comments, ignore_data_comments, mnemonic_case, ignore_data, engine, use_normal_engine_for_wrapped, read_policy, null_policy, index_unit, dtypes, **kwargs)\u001b[0m\n\u001b[0;32m    168\u001b[0m file_obj \u001b[39m=\u001b[39m \u001b[39m\"\u001b[39m\u001b[39m\"\u001b[39m\n\u001b[0;32m    169\u001b[0m \u001b[39mtry\u001b[39;00m:\n\u001b[1;32m--> 170\u001b[0m     file_obj, \u001b[39mself\u001b[39m\u001b[39m.\u001b[39mencoding \u001b[39m=\u001b[39m reader\u001b[39m.\u001b[39mopen_file(file_ref, \u001b[39m*\u001b[39m\u001b[39m*\u001b[39mkwargs)\n\u001b[0;32m    172\u001b[0m     test_lidar \u001b[39m=\u001b[39m file_obj\u001b[39m.\u001b[39mread(\u001b[39m4\u001b[39m)\n\u001b[0;32m    173\u001b[0m     \u001b[39mif\u001b[39;00m test_lidar \u001b[39m==\u001b[39m \u001b[39m\"\u001b[39m\u001b[39mLASF\u001b[39m\u001b[39m\"\u001b[39m:\n",
      "File \u001b[1;32mc:\\Users\\evgeny\\AppData\\Local\\Programs\\Python\\Python39\\lib\\site-packages\\lasio\\reader.py:139\u001b[0m, in \u001b[0;36mopen_file\u001b[1;34m(file_ref, **encoding_kwargs)\u001b[0m\n\u001b[0;32m    137\u001b[0m         file_ref \u001b[39m=\u001b[39m StringIO(file_ref)\n\u001b[0;32m    138\u001b[0m     \u001b[39melse\u001b[39;00m:  \u001b[39m# it must be a filename\u001b[39;00m\n\u001b[1;32m--> 139\u001b[0m         file_ref, encoding \u001b[39m=\u001b[39m open_with_codecs(first_line, \u001b[39m*\u001b[39m\u001b[39m*\u001b[39mencoding_kwargs)\n\u001b[0;32m    140\u001b[0m \u001b[39mreturn\u001b[39;00m file_ref, encoding\n",
      "File \u001b[1;32mc:\\Users\\evgeny\\AppData\\Local\\Programs\\Python\\Python39\\lib\\site-packages\\lasio\\reader.py:184\u001b[0m, in \u001b[0;36mopen_with_codecs\u001b[1;34m(filename, encoding, encoding_errors, autodetect_encoding, autodetect_encoding_chars)\u001b[0m\n\u001b[0;32m    181\u001b[0m     nbytes \u001b[39m=\u001b[39m \u001b[39mNone\u001b[39;00m\n\u001b[0;32m    183\u001b[0m \u001b[39m# Forget [c]chardet - if we can locate the BOM we just assume that's correct.\u001b[39;00m\n\u001b[1;32m--> 184\u001b[0m nbytes_test \u001b[39m=\u001b[39m \u001b[39mmin\u001b[39m(\u001b[39m32\u001b[39m, os\u001b[39m.\u001b[39;49mpath\u001b[39m.\u001b[39;49mgetsize(filename))\n\u001b[0;32m    185\u001b[0m \u001b[39mwith\u001b[39;00m \u001b[39mopen\u001b[39m(filename, mode\u001b[39m=\u001b[39m\u001b[39m\"\u001b[39m\u001b[39mrb\u001b[39m\u001b[39m\"\u001b[39m) \u001b[39mas\u001b[39;00m test:\n\u001b[0;32m    186\u001b[0m     raw \u001b[39m=\u001b[39m test\u001b[39m.\u001b[39mread(nbytes_test)\n",
      "File \u001b[1;32mc:\\Users\\evgeny\\AppData\\Local\\Programs\\Python\\Python39\\lib\\genericpath.py:50\u001b[0m, in \u001b[0;36mgetsize\u001b[1;34m(filename)\u001b[0m\n\u001b[0;32m     48\u001b[0m \u001b[39mdef\u001b[39;00m \u001b[39mgetsize\u001b[39m(filename):\n\u001b[0;32m     49\u001b[0m     \u001b[39m\"\"\"Return the size of a file, reported by os.stat().\"\"\"\u001b[39;00m\n\u001b[1;32m---> 50\u001b[0m     \u001b[39mreturn\u001b[39;00m os\u001b[39m.\u001b[39;49mstat(filename)\u001b[39m.\u001b[39mst_size\n",
      "\u001b[1;31mFileNotFoundError\u001b[0m: [WinError 2] The system cannot find the file specified: '1.las'"
     ]
    }
   ],
   "source": [
    "\n",
    "for file in os.listdir(path):\n",
    "    if file.endswith('.las'):\n",
    "        data = lasio.read(path+'/'+file)\n",
    "        lasdata = data.df()\n",
    "        lasdata.plot(kind='line')"
   ]
  }
 ],
 "metadata": {
  "kernelspec": {
   "display_name": "Python 3.9.5 64-bit",
   "language": "python",
   "name": "python3"
  },
  "language_info": {
   "codemirror_mode": {
    "name": "ipython",
    "version": 3
   },
   "file_extension": ".py",
   "mimetype": "text/x-python",
   "name": "python",
   "nbconvert_exporter": "python",
   "pygments_lexer": "ipython3",
   "version": "3.9.5"
  },
  "vscode": {
   "interpreter": {
    "hash": "b3abf00329507edab877ea91b872f5a8a97d6675ffffcc71208067884a009b6a"
   }
  }
 },
 "nbformat": 4,
 "nbformat_minor": 5
}
