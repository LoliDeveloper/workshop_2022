{
 "cells": [
  {
   "cell_type": "code",
   "execution_count": 22,
   "id": "ee413b61",
   "metadata": {},
   "outputs": [],
   "source": [
    "import numpy as np\n",
    "from matplotlib import pyplot as plt\n",
    "import math\n",
    "import lasio\n",
    "import os\n",
    "import pandas as pd\n",
    "\n",
    "path_to_RIGIS = r'./welldata/RIGIS/'\n",
    "path_to_GIS = r'./welldata/GIS_md/'\n",
    "path_to_welltracks = r'./welldata/welltracks.txt'\n",
    "\n",
    "def getLasDataFrames(path = path_to_RIGIS):\n",
    "    lasDF = []\n",
    "    for file in os.listdir(path):\n",
    "        if file.endswith('.las'):\n",
    "            lasDF.append(lasio.read(path+file).df())\n",
    "            return lasDF\n",
    "\n",
    "lasDataFrame = getLasDataFrames()"
   ]
  },
  {
   "cell_type": "code",
   "execution_count": 23,
   "id": "bfac029d",
   "metadata": {},
   "outputs": [],
   "source": [
    "def parse_welltracks():\n",
    "    welltracks = []\n",
    "    f = open(path_to_welltracks)\n",
    "    welldata = f.read().split(';')\n",
    "    for well in welldata:\n",
    "        if len(well.split()) > 2:\n",
    "            name = well.split()[2][:-1]\n",
    "            data = well.split()[3:]\n",
    "            x = [float(data[i]) for i in range(len(data)) if i % 4 == 0]\n",
    "            y = [float(data[i]) for i in range(len(data)) if i % 4 == 1]\n",
    "            tvdss = [float(data[i]) for i in range(len(data)) if i % 4 == 2]\n",
    "            md = [float(data[i]) for i in range(len(data)) if i % 4 == 3]\n",
    "\n",
    "            welltracks.append([name, x, y ,tvdss, md]) # в таком виде хранятся\n",
    "\n",
    "    return welltracks\n"
   ]
  },
  {
   "cell_type": "code",
   "execution_count": 24,
   "id": "75186185",
   "metadata": {},
   "outputs": [
    {
     "name": "stdout",
     "output_type": "stream",
     "text": [
      "72\n"
     ]
    },
    {
     "data": {
      "text/plain": [
       "[11.278141480000045,\n",
       " 0,\n",
       " 0,\n",
       " 3.7000000000000455,\n",
       " 22.59999999999991,\n",
       " 26.70000000000016,\n",
       " 34.49963349999996,\n",
       " 25.3959541600002,\n",
       " 32.09999999999991,\n",
       " 23.09999999999991,\n",
       " 21.788350800000103,\n",
       " 6.299763800000051,\n",
       " 24.099999999999795,\n",
       " 26.393493599999488,\n",
       " 13.599502719999805,\n",
       " 26.098917479999955,\n",
       " 0,\n",
       " 31.990923359999897,\n",
       " 20.700000000000045,\n",
       " 11.994199999999864,\n",
       " 15.49503580000021,\n",
       " 23.596713759999943,\n",
       " 18.799999999999955,\n",
       " 30.494425879999994,\n",
       " 28.395479716686623,\n",
       " 6.797407080000198,\n",
       " 25.90000000000009,\n",
       " 22.200000000000045,\n",
       " 27.100000000000023,\n",
       " 17.5,\n",
       " 24.08260152000014,\n",
       " 34.293898199999944,\n",
       " 0,\n",
       " 35.09706888000005,\n",
       " 31.99016499999982,\n",
       " 23.998416599999473,\n",
       " 42.69951040000001,\n",
       " 24.399999999999977,\n",
       " 21.392665360000137,\n",
       " 25.198155359999873,\n",
       " 35.19982479999976,\n",
       " 35.18983880000019,\n",
       " 12.463471500000082,\n",
       " 27.299674800000048,\n",
       " 36.99242200000003,\n",
       " 41.45953380000003,\n",
       " 17.381280400000037,\n",
       " 14.798986719999789,\n",
       " 27.791799600000104,\n",
       " 25.99950579999995,\n",
       " 11.947676159999787,\n",
       " 35.298777799999925,\n",
       " 0,\n",
       " 27.835483999999724,\n",
       " 1.7999250000000302,\n",
       " 40.24962930000015,\n",
       " 22.481632699999977,\n",
       " 31.655293700000016,\n",
       " 39.99163910000027,\n",
       " 25.393596320000256,\n",
       " 38.79779950000045,\n",
       " 27.59938759999943,\n",
       " 27.59622359999969,\n",
       " 32.09140360000026,\n",
       " 0,\n",
       " 28.253167839801222,\n",
       " 0,\n",
       " 27.599766300000397,\n",
       " 21.399684800000045,\n",
       " 35.90000000000009,\n",
       " 3.099999999999909,\n",
       " 40.194399800000156]"
      ]
     },
     "execution_count": 24,
     "metadata": {},
     "output_type": "execute_result"
    }
   ],
   "source": [
    "from scipy.interpolate import interp1d\n",
    "import math\n",
    "def get_heights_list():\n",
    "    welltracks = parse_welltracks()\n",
    "    tvdconv = []\n",
    "    for tracknum in range(len(welltracks)):\n",
    "        f = interp1d(welltracks[tracknum][4], welltracks[tracknum][3])\n",
    "        tvdconv.append(f)\n",
    "\n",
    "    heights = []\n",
    "    print(len(lasDataFrame))\n",
    "    for k  in range(len(lasDataFrame)):\n",
    "        frame = lasDataFrame[k]\n",
    "        tmp_sum = 0\n",
    "        for i in range(len(frame['KG_T']) - 1):\n",
    "            if (frame['KG_T'].array[i + 1] >= 0):\n",
    "                tmp_sum += tvdconv[k](frame['KG_T'].index[i + 1]) - tvdconv[k](frame['KG_T'].index[i])\n",
    "        heights.append(tmp_sum)\n",
    "    return heights\n",
    "get_heights_list()"
   ]
  }
 ],
 "metadata": {
  "kernelspec": {
   "display_name": "Python 3.10.4 64-bit",
   "language": "python",
   "name": "python3"
  },
  "language_info": {
   "codemirror_mode": {
    "name": "ipython",
    "version": 3
   },
   "file_extension": ".py",
   "mimetype": "text/x-python",
   "name": "python",
   "nbconvert_exporter": "python",
   "pygments_lexer": "ipython3",
   "version": "3.10.4"
  },
  "vscode": {
   "interpreter": {
    "hash": "916dbcbb3f70747c44a77c7bcd40155683ae19c65e1c03b4aa3499c5328201f1"
   }
  }
 },
 "nbformat": 4,
 "nbformat_minor": 5
}
