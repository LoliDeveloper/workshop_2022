{
 "cells": [
  {
   "cell_type": "code",
   "execution_count": null,
   "id": "ee413b61",
   "metadata": {},
   "outputs": [],
   "source": [
    "import numpy as np\n",
    "from matplotlib import pyplot as plt\n",
    "import math\n",
    "import scipy\n",
    "import lasio\n",
    "import os\n",
    "import pandas as pd\n",
    "\n",
    "path = r'./welldata/RIGIS/'\n",
    "os.chdir(path)"
   ]
  },
  {
   "cell_type": "code",
   "execution_count": null,
   "id": "32c24656",
   "metadata": {},
   "outputs": [],
   "source": [
    "\n",
    "for file in os.listdir():\n",
    "    if file.endswith('.las'):\n",
    "        data = lasio.read(file)\n",
    "        lasdata = data.df()\n",
    "        lasdata.plot(kind='line')"
   ]
  }
 ],
 "metadata": {
  "kernelspec": {
   "display_name": "Python 3.9.5 64-bit",
   "language": "python",
   "name": "python3"
  },
  "language_info": {
   "codemirror_mode": {
    "name": "ipython",
    "version": 3
   },
   "file_extension": ".py",
   "mimetype": "text/x-python",
   "name": "python",
   "nbconvert_exporter": "python",
   "pygments_lexer": "ipython3",
   "version": "3.9.5"
  },
  "vscode": {
   "interpreter": {
    "hash": "b3abf00329507edab877ea91b872f5a8a97d6675ffffcc71208067884a009b6a"
   }
  }
 },
 "nbformat": 4,
 "nbformat_minor": 5
}
