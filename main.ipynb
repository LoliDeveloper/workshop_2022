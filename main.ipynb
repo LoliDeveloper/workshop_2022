{
 "cells": [
  {
   "cell_type": "code",
   "execution_count": null,
   "id": "ee413b61",
   "metadata": {},
   "outputs": [],
   "source": [
    "import numpy as np\n",
    "from matplotlib import pyplot as plt\n",
    "import math\n",
    "import lasio\n",
    "import os\n",
    "import pandas as pd\n",
    "path_to_RIGIS = r'./welldata/RIGIS/'\n",
    "path_to_GIS = r'./welldata/GIS_md/'\n",
    "path_to_welltracks = r'./welldata/welltracks.txt'\n",
    "lasFileNames = []\n",
    "\n",
    "def getLasDataFrames(path = path_to_RIGIS):\n",
    "    lasDF = []\n",
    "    for file in os.listdir(path):\n",
    "        if file.endswith('.las'):\n",
    "            lasFileNames.append(file[:-4])\n",
    "            lasDF.append(lasio.read(path+file).df())\n",
    "    return lasDF\n",
    "\n",
    "lasDataFrame = getLasDataFrames()"
   ]
  },
  {
   "cell_type": "code",
   "execution_count": null,
   "id": "c19b14fa",
   "metadata": {},
   "outputs": [],
   "source": [
    "len(lasDataFrame)"
   ]
  },
  {
   "cell_type": "code",
   "execution_count": null,
   "id": "bfac029d",
   "metadata": {},
   "outputs": [],
   "source": [
    "def parse_welltracks():\n",
    "    welltracks = []\n",
    "    f = open(path_to_welltracks)\n",
    "    welldata = f.read().split(';')\n",
    "    for well in welldata:\n",
    "        if len(well.split()) > 2:\n",
    "            name = well.split()[2][:-1]\n",
    "            data = well.split()[3:]\n",
    "            x = [float(data[i]) for i in range(len(data)) if i % 4 == 0]\n",
    "            y = [float(data[i]) for i in range(len(data)) if i % 4 == 1]\n",
    "            tvdss = [float(data[i]) for i in range(len(data)) if i % 4 == 2]\n",
    "            md = [float(data[i]) for i in range(len(data)) if i % 4 == 3]\n",
    "            if(lasFileNames.count(name) > 0):\n",
    "                welltracks.append([name, x, y ,tvdss, md]) # в таком виде хранятся\n",
    "            else:\n",
    "                print(name)\n",
    "\n",
    "    return welltracks\n"
   ]
  },
  {
   "cell_type": "code",
   "execution_count": null,
   "id": "75186185",
   "metadata": {},
   "outputs": [],
   "source": [
    "from scipy.interpolate import interp1d\n",
    "import math\n",
    "def get_heights_list():\n",
    "    welltracks = parse_welltracks()\n",
    "    tvdconv = []\n",
    "    for tracknum in range(len(welltracks)):\n",
    "        f = interp1d(welltracks[tracknum][4], welltracks[tracknum][3])\n",
    "        tvdconv.append(f)\n",
    "\n",
    "    heights = []\n",
    "    print(len(lasDataFrame))\n",
    "    for k  in range(len(lasDataFrame)):\n",
    "        frame = lasDataFrame[k]\n",
    "        tmp_sum = 0\n",
    "        for i in range(len(frame['KG_T']) - 1):\n",
    "            if (frame['KG_T'].array[i + 1] >= 0):\n",
    "                tmp_sum += tvdconv[k](frame['KG_T'].index[i + 1]) - tvdconv[k](frame['KG_T'].index[i])\n",
    "        heights.append(tmp_sum)\n",
    "    return heights\n",
    "get_heights_list()"
   ]
  },
  {
   "cell_type": "code",
   "execution_count": null,
   "id": "264df21e",
   "metadata": {},
   "outputs": [],
   "source": [
    "def get_k_nas_por():\n",
    "    k_nas = []\n",
    "    k_por = []\n",
    "    for k in range(len(lasDataFrame)):\n",
    "        frame = lasDataFrame[k]\n",
    "        k_nas.append([val for val in frame['KG_T']])\n",
    "        for k_w in range(len(k_nas)):\n",
    "            for k in range(len(k_nas[k_w])-1,-1,-1):\n",
    "                if math.isnan(k_nas[k_w][k]):\n",
    "                    k_nas[k_w].pop(k)\n",
    "        k_por.append([val for val in frame['KP_T']])\n",
    "\n",
    "        for k_w in range(len(k_por)):\n",
    "            for k in range(len(k_por[k_w])-1,-1,-1):\n",
    "                if math.isnan(k_por[k_w][k]):\n",
    "                    k_por[k_w].pop(k)\n",
    "    return (k_nas, k_por)\n",
    "k_nas,k_por = get_k_nas_por()"
   ]
  },
  {
   "cell_type": "code",
   "execution_count": null,
   "id": "8c83a151",
   "metadata": {},
   "outputs": [],
   "source": []
  },
  {
   "cell_type": "code",
   "execution_count": null,
   "id": "ad39ab1a",
   "metadata": {},
   "outputs": [],
   "source": [
    "def dist(x1,y1,x2,y2):\n",
    "    return math.sqrt((x1-x2)**2+(y1-y2)**2)\n",
    "    \n",
    "def perimeter(boundary):\n",
    "    (prev_x,prev_y) = boundary[-1]\n",
    "    perim = 0\n",
    "    for (x,y) in boundary:\n",
    "        perim += dist(x,y,prev_x,prev_y)\n",
    "        prev_x, prev_y = x,y\n",
    "    return perim\n",
    "def getCommonLength(boundary1, boundary2):\n",
    "    first_pt = -1\n",
    "    second_pt = -1\n",
    "    for i in range(int(boundary1.size/2 - 1)):\n",
    "        for j in range(int(boundary2.size/2 - 1)):\n",
    "            (x1, y1) = boundary1[i]\n",
    "            (x2, y2) = boundary2[j]\n",
    "            if(x1 == x2 and y1 == y2):\n",
    "                if first_pt == -1:\n",
    "                    first_pt = (x1,y1)\n",
    "                else:\n",
    "                    second_pt = (x2, y2)\n",
    "                    return dist(first_pt[0],first_pt[1],second_pt[0],second_pt[1])\n",
    "    return 0\n",
    "    \n"
   ]
  },
  {
   "cell_type": "code",
   "execution_count": null,
   "id": "4c3507d3",
   "metadata": {},
   "outputs": [],
   "source": [
    "import matplotlib.pyplot as plt\n",
    "import numpy as np\n",
    "import geopandas as gpd\n",
    "import contextily as ctx\n",
    "from shapely import geometry\n",
    "from shapely.ops import cascaded_union\n",
    "from geovoronoi.plotting import subplot_for_map, plot_voronoi_polys_with_points_in_area\n",
    "from geovoronoi import voronoi_regions_from_coords, points_to_coords\n",
    "\n",
    "welltracks = parse_welltracks()\n",
    "print('len(welltrack) = ', len(welltracks))\n",
    "boundary = np.load(\"boundary.npy\",'r') \n",
    "\n",
    "c = np.array([(track[1][0], track[2][0]) for track in welltracks])\n",
    "s = geometry.Polygon(boundary)\n",
    "main_area = s.area\n",
    "region_polys, region_pts = voronoi_regions_from_coords(c, s)\n",
    "perimeters = []\n",
    "boundaries = []\n",
    "new_polys = []\n",
    "print('len(region_polys) = ', len(region_polys))\n",
    "for i in range(len(region_polys)):\n",
    "    #print(type(region_polys[i]))\n",
    "    try:\n",
    "        new_polys.append(region_polys[i])\n",
    "        perimeters.append(perimeter(np.array(region_polys[i].boundary)))\n",
    "        boundaries.append(region_polys[i].boundary)\n",
    "    except Exception as e:\n",
    "        perimeters.append(perimeter(np.array(list(region_polys[i])[0].boundary)))\n",
    "        boundaries.append(list(region_polys[i])[0].boundary)\n"
   ]
  },
  {
   "cell_type": "code",
   "execution_count": null,
   "id": "700f13d2",
   "metadata": {},
   "outputs": [],
   "source": [
    "len(boundaries)"
   ]
  },
  {
   "cell_type": "code",
   "execution_count": null,
   "id": "ac921d52",
   "metadata": {},
   "outputs": [],
   "source": [
    "\n",
    "#print(perimeters)\n",
    "fig, ax = subplot_for_map(figsize=(15, 9), dpi=400)\n",
    "print(\"len(welltracks) = \", len(welltracks))\n",
    "for i in range(len(welltracks)):\n",
    "    ax.annotate(str(i), (welltracks[i][1][0], welltracks[i][2][0]), fontsize=7)\n",
    "plot_voronoi_polys_with_points_in_area(ax, s, region_polys, c, region_pts)\n",
    "plt.show()\n"
   ]
  },
  {
   "cell_type": "code",
   "execution_count": null,
   "id": "595e9d72",
   "metadata": {
    "scrolled": true
   },
   "outputs": [],
   "source": [
    "mat_size = len(welltracks)\n",
    "print('mat size is ', mat_size)\n",
    "adj_mat = [np.array([-1 for i in range(mat_size)]) for j in range(mat_size)]\n",
    "for i in range(mat_size - 1):\n",
    "    for j in range(mat_size - 1):\n",
    "        for reg1 in region_pts[i]:\n",
    "            for reg2 in region_pts[j]:\n",
    "                if (i == j):\n",
    "                    adj_mat[reg1][reg2] = 0\n",
    "                    continue\n",
    "                adj_mat[reg1][reg2] = getCommonLength(np.array(boundaries[i]), np.array(boundaries[j]))\n",
    "                if(adj_mat[reg1][reg2] > 0):\n",
    "                    print(reg1, ' and ', reg2, ' are neibors with common length ', adj_mat[reg1][reg2])\n",
    "print(adj_mat)"
   ]
  },
  {
   "cell_type": "code",
   "execution_count": null,
   "id": "4a31046a",
   "metadata": {},
   "outputs": [],
   "source": [
    "squares = []\n",
    "from main import parse_welltracks\n",
    "for i in range(len(region_polys)):\n",
    "    squares.append(region_polys[i].area)"
   ]
  },
  {
   "cell_type": "code",
   "execution_count": null,
   "id": "c7887d1c",
   "metadata": {},
   "outputs": [],
   "source": [
    "def get_dis_mat():\n",
    "    dis_mat = [[0 for i in range(len(welltracks))] for i in range(len(welltracks))]\n",
    "    for well1 in len(welltracks):\n",
    "        for well2 in len(welltracks):\n",
    "            x1 = welltracks[well1][1][0]\n",
    "            y1 = welltracks[well1][1][1]\n",
    "            x2 = welltracks[well2][1][0]\n",
    "            y2 = welltracks[well1][1][1]\n",
    "            dis_mat[well1][well2] = dist(x1,y1,x2,y2)/2\n",
    "dis_mat = get_dis_mat()"
   ]
  },
  {
   "cell_type": "code",
   "execution_count": null,
   "id": "362c0f65",
   "metadata": {},
   "outputs": [],
   "source": [
    "bg = 0.00848016\n",
    "def zero_formula(S, H, kp, kg, bg = 0.00848016, ft = 1, fp = 1):\n",
    "    return S*H*kp*kg/bg\n"
   ]
  },
  {
   "cell_type": "code",
   "execution_count": null,
   "id": "2f9dea3c",
   "metadata": {},
   "outputs": [],
   "source": [
    "\n",
    "mean_k_nas = [sum(k)/len(k) for k in k_nas if len(k) > 0]\n",
    "mean_k_por = [sum(k)/len(k) for k in k_por if len(k) > 0]\n",
    "heights = get_heights_list()\n",
    "print(heights)\n",
    "print('mean k nas',mean_k_nas[0])\n",
    "print('mean k por',mean_k_por[0])\n",
    "print(k_nas[0], k_por[0])"
   ]
  },
  {
   "cell_type": "code",
   "execution_count": null,
   "id": "19f9e64a",
   "metadata": {},
   "outputs": [],
   "source": [
    "from vis_rigis_data import visualize_data\n",
    "print(\"zero_formula = \", zero_formula(main_area, sum(heights)/len(heights), sum(mean_k_por)/len(mean_k_por), sum(mean_k_nas)/len(mean_k_nas)))\n",
    "visualize_data(heights, 6)\n",
    "print(\"k_por med = \", mean_k_por[0])\n",
    "print(\"k_nas med = \", mean_k_nas[0])\n",
    "#plt.plot(,[])"
   ]
  },
  {
   "cell_type": "code",
   "execution_count": null,
   "id": "03b9a091",
   "metadata": {},
   "outputs": [],
   "source": [
    "len([np.mean(x) for x in k_nas])"
   ]
  },
  {
   "cell_type": "code",
   "execution_count": null,
   "id": "8e518352",
   "metadata": {},
   "outputs": [],
   "source": [
    "from get_value import get_value\n",
    "\n",
    "print(len(mean_k_nas), len(mean_k_por), len(heights), len(squares), len(adj_mat), len(perimeters))\n",
    "\n",
    "#v1 = get_value(mean_k_nas, mean_k_por, heights, squares, adj_mat, perimeters)\n",
    "#sum(v1)/bg"
   ]
  },
  {
   "cell_type": "code",
   "execution_count": null,
   "id": "fe868923-a010-4cbf-90db-d9bf6bf34fb2",
   "metadata": {},
   "outputs": [],
   "source": [
    "import copy\n",
    "def get_value(k_gas,k_por,h,S,mat,P):\n",
    "    value = []\n",
    "    temp_value = []\n",
    "    for i in range(len(k_gas)):\n",
    "        temp_value.append(k_gas[i]*k_por[i]*h[i]/2)\n",
    "        value.append(k_gas[i]*k_por[i]*h[i]/2)\n",
    "    for i in range(len(k_gas)):\n",
    "        for V in range(len(mat[i])):\n",
    "            if mat[i][V]>0:\n",
    "                value[i]+=mat[i][V]/P[i]*temp_value[V]\n",
    "    value=[S[i]*x for x in value]\n",
    "    return value\n",
    "\n",
    "\n",
    "# In[181]:\n",
    "\n",
    "\n",
    "def get_value2(k_gas,k_por,h,S,mat,P,compress = 1000000):\n",
    "    '''Считаем произведение вероятностей. Каждое значение перемножается с каждым другим. Перемножаем k_por k_gas h'''\n",
    "    gas_por = []\n",
    "    for i in range (len(k_gas)):\n",
    "        if sum(k_gas[i])!=0:\n",
    "            temp = []\n",
    "            for gas in k_gas[i]:\n",
    "                for por in k_por[i]:\n",
    "                    temp.append(gas*por)\n",
    "\n",
    "            gas_por_h = []\n",
    "            for gaspor in temp:\n",
    "                for H in h[i]:\n",
    "                    gas_por_h.append(gaspor*H/2)\n",
    "\n",
    "            gas_por.append(gas_por_h)\n",
    "        else:\n",
    "            gas_por.append([0])\n",
    "    print([len(gas) for gas in gas_por])\n",
    "    adskoe_raspredelenie=[]\n",
    "    for id_well in range (len(k_gas)):\n",
    "\n",
    "        save = copy.deepcopy(gas_por[id_well])\n",
    "        for id_p_j in range(len(mat[id_well])):\n",
    "                temp = []\n",
    "                if len(save)>compress:\n",
    "                    print(len(save),len(gas_por[id_p_j]),len(honey_compress(temp)))\n",
    "                    save=honey_compress(save)\n",
    "                if (id_p_j!= id_well and mat[id_well][id_p_j]>0):\n",
    "                    for V in save:\n",
    "                        for V_j in gas_por[id_p_j]:\n",
    "                            temp.append(V+V_j*mat[id_well][id_p_j]/P[id_well])\n",
    "                    save = copy.deepcopy(temp)\n",
    "                #else:\n",
    "        save = [x*S[id_well] for x in save]\n",
    "        \n",
    "        adskoe_raspredelenie.append(save)\n",
    "    return adskoe_raspredelenie\n",
    "\n",
    "\n",
    "# In[174]:\n",
    "\n",
    "\n",
    "def honey_compress(value_list, razmer_zhim=1000):\n",
    "    value= len(value_list)\n",
    "    temp_div= 2\n",
    "    min_div = 1\n",
    "    while(value>razmer_zhim):\n",
    "        if (value%temp_div==0):\n",
    "            min_div*=temp_div\n",
    "            value= value//temp_div\n",
    "        else:\n",
    "            temp_div+=1\n",
    "    value_list.sort();\n",
    "    new_value_list=[sum(value_list[(x)*min_div:(x+1)*min_div])/min_div for x in range(value)]\n",
    "    return new_value_list\n"
   ]
  },
  {
   "cell_type": "code",
   "execution_count": 124,
   "id": "f01354fa",
   "metadata": {
    "scrolled": true
   },
   "outputs": [
    {
     "name": "stdout",
     "output_type": "stream",
     "text": [
      "[320, 144, 88, 285, 525, 484, 126, 420, 40, 169, 90, 483, 60, 120, 63, 1, 105, 65, 96, 48, 270, 1, 440, 252, 1, 440, 272, 70, 195, 255, 160, 176, 115, 675, 484, 308, 224, 552, 81, 1, 11, 288, 168, 1, 1, 120, 266, 1, 252, 238, 234, 270, 528, 225, 154, 195, 130, 80, 150, 60, 575, 462, 76, 320, 672, 187, 117, 255, 46, 210, 304, 90]\n",
      "30720 48 0\n",
      "168960 115 0\n",
      "75900 675 0\n",
      "72864 168 0\n",
      "60720 150 0\n",
      "29601 255 0\n",
      "17280 63 0\n",
      "364500 484 0\n",
      "101250 528 0\n",
      "330000 225 0\n",
      "53625 130 0\n",
      "274560 270 0\n",
      "193050 1 0\n",
      "120120 1 0\n",
      "43472 90 0\n",
      "119700 40 0\n",
      "292600 252 0\n",
      "52668 1 0\n",
      "66880 672 0\n",
      "33075 1 0\n",
      "25725 65 0\n",
      "158466 76 0\n",
      "60984 420 0\n",
      "372680 272 0\n"
     ]
    }
   ],
   "source": [
    "v2 = get_value2(k_nas, k_por, [[h] for h in heights], squares, adj_mat, perimeters, 10000)\n"
   ]
  },
  {
   "cell_type": "code",
   "execution_count": null,
   "id": "98632618",
   "metadata": {},
   "outputs": [],
   "source": [
    "from collections import Counter"
   ]
  },
  {
   "cell_type": "code",
   "execution_count": null,
   "id": "9da0f80b",
   "metadata": {},
   "outputs": [],
   "source": [
    "def itog_rasp(all_value,honey = 50000):\n",
    "    first_well = all_value[0]\n",
    "    for id_value in range(1,len(all_value)):\n",
    "        temp = []\n",
    "        if len(first_well)>honey:\n",
    "            first_well=honey_compress(first_well)\n",
    "        if len(all_value[id_value])>honey:\n",
    "            all_value[id_value]=honey_compress(all_value[id_value])\n",
    "        print(len(first_well))\n",
    "        for first in first_well:\n",
    "            for second in all_value[id_value]:\n",
    "                temp.append(first+second)\n",
    "        first_well= copy.deepcopy(temp)\n",
    "        \n",
    "    return first_well"
   ]
  },
  {
   "cell_type": "code",
   "execution_count": null,
   "id": "8b5ad3d1",
   "metadata": {
    "scrolled": false
   },
   "outputs": [],
   "source": [
    "v3 = itog_rasp(v2)"
   ]
  },
  {
   "cell_type": "code",
   "execution_count": null,
   "id": "ef87ce3c",
   "metadata": {
    "scrolled": true
   },
   "outputs": [],
   "source": [
    "len(v3)"
   ]
  },
  {
   "cell_type": "code",
   "execution_count": null,
   "id": "1c709b93",
   "metadata": {},
   "outputs": [],
   "source": [
    "from vis_rigis_data import expection, dispersion, normal_\n",
    "def visualize_data(data = [], _div = 5, x_label = 'x_label', y_label = 'y_label'):\n",
    "    data_count = [0 for x in range(_div)]\n",
    "    print(\"len data = \", len(data))\n",
    "    max_data = max(data)+0.01\n",
    "    min_data = min(data)\n",
    "    delta = max_data - min_data\n",
    "\n",
    "    step = delta/_div\n",
    "    steps = [min_data+step/2]\n",
    "    for i in range(1,_div):\n",
    "        steps.append(steps[-1]+step)\n",
    "    for k in data:\n",
    "        index = (k - min_data)/step\n",
    "        data_count[int(index)]+=1\n",
    "    print(data_count)\n",
    "\n",
    "    fig, ax = plt.subplots(layout='constrained', dpi = 400)\n",
    "    fig.suptitle('_div = '+str(_div))\n",
    "    ax.set_ylabel(y_label)\n",
    "    ax.set_xlabel(x_label)\n",
    "    fig.tight_layout();\n",
    "    print(\"hist\")\n",
    "    ax.plot(steps, data_count)\n",
    "    e = expection(data)\n",
    "    print('e = ', e)\n",
    "    d = dispersion(data, e)\n",
    "    print('d = ', d)\n",
    "    x = steps\n",
    "    ax.plot(x, normal_(x, e, d), label = 'Нормальное распределение')\n",
    "    print(\"integral = \", sum(step * normal_(x,e,d)))\n",
    "\n",
    "    #ax.plot(x, x**2, 'test')\n",
    "    plt.show()\n"
   ]
  },
  {
   "cell_type": "code",
   "execution_count": null,
   "id": "dc3e3b33",
   "metadata": {},
   "outputs": [],
   "source": [
    "visualize_data(v3, 100, \"Количество запасов\", \"Количество реализаций\")"
   ]
  },
  {
   "cell_type": "code",
   "execution_count": null,
   "id": "d2d56017",
   "metadata": {
    "scrolled": true
   },
   "outputs": [],
   "source": [
    "k_n = []\n",
    "for k in k_por:\n",
    "    k_n += k\n",
    "visualize_data(perimeters, 10, \"Периметр\", \"Количество попаданий в интервал\")"
   ]
  },
  {
   "cell_type": "code",
   "execution_count": null,
   "id": "4a6c5359",
   "metadata": {},
   "outputs": [],
   "source": []
  }
 ],
 "metadata": {
  "kernelspec": {
   "display_name": "Python 3 (ipykernel)",
   "language": "python",
   "name": "python3"
  },
  "language_info": {
   "codemirror_mode": {
    "name": "ipython",
    "version": 3
   },
   "file_extension": ".py",
   "mimetype": "text/x-python",
   "name": "python",
   "nbconvert_exporter": "python",
   "pygments_lexer": "ipython3",
   "version": "3.10.6"
  },
  "vscode": {
   "interpreter": {
    "hash": "916dbcbb3f70747c44a77c7bcd40155683ae19c65e1c03b4aa3499c5328201f1"
   }
  }
 },
 "nbformat": 4,
 "nbformat_minor": 5
}
