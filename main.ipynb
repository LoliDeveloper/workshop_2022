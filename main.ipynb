{
 "cells": [
  {
   "cell_type": "code",
   "execution_count": 1,
   "id": "ee413b61",
   "metadata": {},
   "outputs": [],
   "source": [
    "import numpy as np\n",
    "from matplotlib import pyplot as plt\n",
    "import math\n",
    "import lasio\n",
    "import os\n",
    "import pandas as pd\n",
    "\n",
    "path_to_RIGIS = r'./welldata/RIGIS/'\n",
    "path_to_GIS = r'./welldata/GIS_md/'\n",
    "path_to_welltracks = r'./welldata/welltracks.txt'\n",
    "\n",
    "def getLasDataFrames(path = path_to_RIGIS):\n",
    "    lasDF = []\n",
    "    for file in os.listdir(path):\n",
    "        if file.endswith('.las'):\n",
    "            lasDF.append(lasio.read(path+file).df())\n",
    "    return lasDF\n",
    "\n",
    "lasDataFrame = getLasDataFrames(path_to_GIS)"
   ]
  },
  {
   "cell_type": "code",
   "execution_count": 2,
   "id": "c19b14fa",
   "metadata": {},
   "outputs": [
    {
     "data": {
      "text/plain": [
       "1"
      ]
     },
     "execution_count": 2,
     "metadata": {},
     "output_type": "execute_result"
    }
   ],
   "source": [
    "len(lasDataFrame)"
   ]
  },
  {
   "cell_type": "code",
   "execution_count": 3,
   "id": "bfac029d",
   "metadata": {},
   "outputs": [],
   "source": [
    "def parse_welltracks():\n",
    "    welltracks = []\n",
    "    f = open(path_to_welltracks)\n",
    "    welldata = f.read().split(';')\n",
    "    for well in welldata:\n",
    "        if len(well.split()) > 2:\n",
    "            name = well.split()[2][:-1]\n",
    "            data = well.split()[3:]\n",
    "            x = [float(data[i]) for i in range(len(data)) if i % 4 == 0]\n",
    "            y = [float(data[i]) for i in range(len(data)) if i % 4 == 1]\n",
    "            tvdss = [float(data[i]) for i in range(len(data)) if i % 4 == 2]\n",
    "            md = [float(data[i]) for i in range(len(data)) if i % 4 == 3]\n",
    "\n",
    "            welltracks.append([name, x, y ,tvdss, md]) # в таком виде хранятся\n",
    "\n",
    "    return welltracks\n"
   ]
  },
  {
   "cell_type": "code",
   "execution_count": 4,
   "id": "75186185",
   "metadata": {},
   "outputs": [
    {
     "name": "stdout",
     "output_type": "stream",
     "text": [
      "1\n"
     ]
    },
    {
     "ename": "KeyError",
     "evalue": "'KG_T'",
     "output_type": "error",
     "traceback": [
      "\u001b[1;31m---------------------------------------------------------------------------\u001b[0m",
      "\u001b[1;31mKeyError\u001b[0m                                  Traceback (most recent call last)",
      "File \u001b[1;32mc:\\Users\\evgeny\\AppData\\Local\\Programs\\Python\\Python39\\lib\\site-packages\\pandas\\core\\indexes\\base.py:3621\u001b[0m, in \u001b[0;36mIndex.get_loc\u001b[1;34m(self, key, method, tolerance)\u001b[0m\n\u001b[0;32m   3620\u001b[0m \u001b[39mtry\u001b[39;00m:\n\u001b[1;32m-> 3621\u001b[0m     \u001b[39mreturn\u001b[39;00m \u001b[39mself\u001b[39;49m\u001b[39m.\u001b[39;49m_engine\u001b[39m.\u001b[39;49mget_loc(casted_key)\n\u001b[0;32m   3622\u001b[0m \u001b[39mexcept\u001b[39;00m \u001b[39mKeyError\u001b[39;00m \u001b[39mas\u001b[39;00m err:\n",
      "File \u001b[1;32mc:\\Users\\evgeny\\AppData\\Local\\Programs\\Python\\Python39\\lib\\site-packages\\pandas\\_libs\\index.pyx:136\u001b[0m, in \u001b[0;36mpandas._libs.index.IndexEngine.get_loc\u001b[1;34m()\u001b[0m\n",
      "File \u001b[1;32mc:\\Users\\evgeny\\AppData\\Local\\Programs\\Python\\Python39\\lib\\site-packages\\pandas\\_libs\\index.pyx:163\u001b[0m, in \u001b[0;36mpandas._libs.index.IndexEngine.get_loc\u001b[1;34m()\u001b[0m\n",
      "File \u001b[1;32mpandas\\_libs\\hashtable_class_helper.pxi:5198\u001b[0m, in \u001b[0;36mpandas._libs.hashtable.PyObjectHashTable.get_item\u001b[1;34m()\u001b[0m\n",
      "File \u001b[1;32mpandas\\_libs\\hashtable_class_helper.pxi:5206\u001b[0m, in \u001b[0;36mpandas._libs.hashtable.PyObjectHashTable.get_item\u001b[1;34m()\u001b[0m\n",
      "\u001b[1;31mKeyError\u001b[0m: 'KG_T'",
      "\nThe above exception was the direct cause of the following exception:\n",
      "\u001b[1;31mKeyError\u001b[0m                                  Traceback (most recent call last)",
      "\u001b[1;32mc:\\Users\\evgeny\\workshop_2022\\main.ipynb Cell 4\u001b[0m in \u001b[0;36m<cell line: 20>\u001b[1;34m()\u001b[0m\n\u001b[0;32m     <a href='vscode-notebook-cell:/c%3A/Users/evgeny/workshop_2022/main.ipynb#W3sZmlsZQ%3D%3D?line=17'>18</a>\u001b[0m         heights\u001b[39m.\u001b[39mappend(tmp_sum)\n\u001b[0;32m     <a href='vscode-notebook-cell:/c%3A/Users/evgeny/workshop_2022/main.ipynb#W3sZmlsZQ%3D%3D?line=18'>19</a>\u001b[0m     \u001b[39mreturn\u001b[39;00m heights\n\u001b[1;32m---> <a href='vscode-notebook-cell:/c%3A/Users/evgeny/workshop_2022/main.ipynb#W3sZmlsZQ%3D%3D?line=19'>20</a>\u001b[0m get_heights_list()\n",
      "\u001b[1;32mc:\\Users\\evgeny\\workshop_2022\\main.ipynb Cell 4\u001b[0m in \u001b[0;36mget_heights_list\u001b[1;34m()\u001b[0m\n\u001b[0;32m     <a href='vscode-notebook-cell:/c%3A/Users/evgeny/workshop_2022/main.ipynb#W3sZmlsZQ%3D%3D?line=12'>13</a>\u001b[0m frame \u001b[39m=\u001b[39m lasDataFrame[k]\n\u001b[0;32m     <a href='vscode-notebook-cell:/c%3A/Users/evgeny/workshop_2022/main.ipynb#W3sZmlsZQ%3D%3D?line=13'>14</a>\u001b[0m tmp_sum \u001b[39m=\u001b[39m \u001b[39m0\u001b[39m\n\u001b[1;32m---> <a href='vscode-notebook-cell:/c%3A/Users/evgeny/workshop_2022/main.ipynb#W3sZmlsZQ%3D%3D?line=14'>15</a>\u001b[0m \u001b[39mfor\u001b[39;00m i \u001b[39min\u001b[39;00m \u001b[39mrange\u001b[39m(\u001b[39mlen\u001b[39m(frame[\u001b[39m'\u001b[39;49m\u001b[39mKG_T\u001b[39;49m\u001b[39m'\u001b[39;49m]) \u001b[39m-\u001b[39m \u001b[39m1\u001b[39m):\n\u001b[0;32m     <a href='vscode-notebook-cell:/c%3A/Users/evgeny/workshop_2022/main.ipynb#W3sZmlsZQ%3D%3D?line=15'>16</a>\u001b[0m     \u001b[39mif\u001b[39;00m (frame[\u001b[39m'\u001b[39m\u001b[39mKG_T\u001b[39m\u001b[39m'\u001b[39m]\u001b[39m.\u001b[39marray[i \u001b[39m+\u001b[39m \u001b[39m1\u001b[39m] \u001b[39m>\u001b[39m\u001b[39m=\u001b[39m \u001b[39m0\u001b[39m):\n\u001b[0;32m     <a href='vscode-notebook-cell:/c%3A/Users/evgeny/workshop_2022/main.ipynb#W3sZmlsZQ%3D%3D?line=16'>17</a>\u001b[0m         tmp_sum \u001b[39m+\u001b[39m\u001b[39m=\u001b[39m tvdconv[k](frame[\u001b[39m'\u001b[39m\u001b[39mKG_T\u001b[39m\u001b[39m'\u001b[39m]\u001b[39m.\u001b[39mindex[i \u001b[39m+\u001b[39m \u001b[39m1\u001b[39m]) \u001b[39m-\u001b[39m tvdconv[k](frame[\u001b[39m'\u001b[39m\u001b[39mKG_T\u001b[39m\u001b[39m'\u001b[39m]\u001b[39m.\u001b[39mindex[i])\n",
      "File \u001b[1;32mc:\\Users\\evgeny\\AppData\\Local\\Programs\\Python\\Python39\\lib\\site-packages\\pandas\\core\\frame.py:3505\u001b[0m, in \u001b[0;36mDataFrame.__getitem__\u001b[1;34m(self, key)\u001b[0m\n\u001b[0;32m   3503\u001b[0m \u001b[39mif\u001b[39;00m \u001b[39mself\u001b[39m\u001b[39m.\u001b[39mcolumns\u001b[39m.\u001b[39mnlevels \u001b[39m>\u001b[39m \u001b[39m1\u001b[39m:\n\u001b[0;32m   3504\u001b[0m     \u001b[39mreturn\u001b[39;00m \u001b[39mself\u001b[39m\u001b[39m.\u001b[39m_getitem_multilevel(key)\n\u001b[1;32m-> 3505\u001b[0m indexer \u001b[39m=\u001b[39m \u001b[39mself\u001b[39;49m\u001b[39m.\u001b[39;49mcolumns\u001b[39m.\u001b[39;49mget_loc(key)\n\u001b[0;32m   3506\u001b[0m \u001b[39mif\u001b[39;00m is_integer(indexer):\n\u001b[0;32m   3507\u001b[0m     indexer \u001b[39m=\u001b[39m [indexer]\n",
      "File \u001b[1;32mc:\\Users\\evgeny\\AppData\\Local\\Programs\\Python\\Python39\\lib\\site-packages\\pandas\\core\\indexes\\base.py:3623\u001b[0m, in \u001b[0;36mIndex.get_loc\u001b[1;34m(self, key, method, tolerance)\u001b[0m\n\u001b[0;32m   3621\u001b[0m     \u001b[39mreturn\u001b[39;00m \u001b[39mself\u001b[39m\u001b[39m.\u001b[39m_engine\u001b[39m.\u001b[39mget_loc(casted_key)\n\u001b[0;32m   3622\u001b[0m \u001b[39mexcept\u001b[39;00m \u001b[39mKeyError\u001b[39;00m \u001b[39mas\u001b[39;00m err:\n\u001b[1;32m-> 3623\u001b[0m     \u001b[39mraise\u001b[39;00m \u001b[39mKeyError\u001b[39;00m(key) \u001b[39mfrom\u001b[39;00m \u001b[39merr\u001b[39;00m\n\u001b[0;32m   3624\u001b[0m \u001b[39mexcept\u001b[39;00m \u001b[39mTypeError\u001b[39;00m:\n\u001b[0;32m   3625\u001b[0m     \u001b[39m# If we have a listlike key, _check_indexing_error will raise\u001b[39;00m\n\u001b[0;32m   3626\u001b[0m     \u001b[39m#  InvalidIndexError. Otherwise we fall through and re-raise\u001b[39;00m\n\u001b[0;32m   3627\u001b[0m     \u001b[39m#  the TypeError.\u001b[39;00m\n\u001b[0;32m   3628\u001b[0m     \u001b[39mself\u001b[39m\u001b[39m.\u001b[39m_check_indexing_error(key)\n",
      "\u001b[1;31mKeyError\u001b[0m: 'KG_T'"
     ]
    }
   ],
   "source": [
    "from scipy.interpolate import interp1d\n",
    "import math\n",
    "def get_heights_list():\n",
    "    welltracks = parse_welltracks()\n",
    "    tvdconv = []\n",
    "    for tracknum in range(len(welltracks)):\n",
    "        f = interp1d(welltracks[tracknum][4], welltracks[tracknum][3])\n",
    "        tvdconv.append(f)\n",
    "\n",
    "    heights = []\n",
    "    print(len(lasDataFrame))\n",
    "    for k  in range(len(lasDataFrame)):\n",
    "        frame = lasDataFrame[k]\n",
    "        tmp_sum = 0\n",
    "        for i in range(len(frame['KG_T']) - 1):\n",
    "            if (frame['KG_T'].array[i + 1] >= 0):\n",
    "                tmp_sum += tvdconv[k](frame['KG_T'].index[i + 1]) - tvdconv[k](frame['KG_T'].index[i])\n",
    "        heights.append(tmp_sum)\n",
    "    return heights\n",
    "get_heights_list()"
   ]
  }
 ],
 "metadata": {
  "kernelspec": {
   "display_name": "Python 3.9.5 64-bit",
   "language": "python",
   "name": "python3"
  },
  "language_info": {
   "codemirror_mode": {
    "name": "ipython",
    "version": 3
   },
   "file_extension": ".py",
   "mimetype": "text/x-python",
   "name": "python",
   "nbconvert_exporter": "python",
   "pygments_lexer": "ipython3",
   "version": "3.9.5"
  },
  "vscode": {
   "interpreter": {
    "hash": "b3abf00329507edab877ea91b872f5a8a97d6675ffffcc71208067884a009b6a"
   }
  }
 },
 "nbformat": 4,
 "nbformat_minor": 5
}
