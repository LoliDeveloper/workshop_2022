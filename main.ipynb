{
 "cells": [
  {
   "cell_type": "code",
   "execution_count": null,
   "id": "ee413b61",
   "metadata": {},
   "outputs": [],
   "source": [
    "import numpy as np\n",
    "from matplotlib import pyplot as plt\n",
    "import math\n",
    "import lasio\n",
    "import os\n",
    "import pandas as pd\n",
    "k_por = np.load('./old/k_pors.npy')\n",
    "k_nas = np.load('./old/k_nas.npy')\n",
    "path_to_RIGIS = r'./welldata/RIGIS/'\n",
    "path_to_GIS = r'./welldata/GIS_md/'\n",
    "path_to_welltracks = r'./welldata/welltracks.txt'\n",
    "\n",
    "def getLasDataFrames(path = path_to_RIGIS):\n",
    "    lasDF = []\n",
    "    for file in os.listdir(path):\n",
    "        if file.endswith('.las'):\n",
    "            lasDF.append(lasio.read(path+file).df())\n",
    "    return lasDF\n",
    "\n",
    "lasDataFrame = getLasDataFrames()"
   ]
  },
  {
   "cell_type": "code",
   "execution_count": null,
   "id": "c19b14fa",
   "metadata": {},
   "outputs": [],
   "source": [
    "len(lasDataFrame)"
   ]
  },
  {
   "cell_type": "code",
   "execution_count": null,
   "id": "bfac029d",
   "metadata": {},
   "outputs": [],
   "source": [
    "def parse_welltracks():\n",
    "    welltracks = []\n",
    "    f = open(path_to_welltracks)\n",
    "    welldata = f.read().split(';')\n",
    "    for well in welldata:\n",
    "        if len(well.split()) > 2:\n",
    "            name = well.split()[2][:-1]\n",
    "            data = well.split()[3:]\n",
    "            x = [float(data[i]) for i in range(len(data)) if i % 4 == 0]\n",
    "            y = [float(data[i]) for i in range(len(data)) if i % 4 == 1]\n",
    "            tvdss = [float(data[i]) for i in range(len(data)) if i % 4 == 2]\n",
    "            md = [float(data[i]) for i in range(len(data)) if i % 4 == 3]\n",
    "\n",
    "            welltracks.append([name, x, y ,tvdss, md]) # в таком виде хранятся\n",
    "\n",
    "    return welltracks\n"
   ]
  },
  {
   "cell_type": "code",
   "execution_count": null,
   "id": "75186185",
   "metadata": {},
   "outputs": [],
   "source": [
    "from scipy.interpolate import interp1d\n",
    "import math\n",
    "def get_heights_list():\n",
    "    welltracks = parse_welltracks()\n",
    "    tvdconv = []\n",
    "    for tracknum in range(len(welltracks)):\n",
    "        f = interp1d(welltracks[tracknum][4], welltracks[tracknum][3])\n",
    "        tvdconv.append(f)\n",
    "\n",
    "    heights = []\n",
    "    print(len(lasDataFrame))\n",
    "    for k  in range(len(lasDataFrame)):\n",
    "        frame = lasDataFrame[k]\n",
    "        tmp_sum = 0\n",
    "        for i in range(len(frame['KG_T']) - 1):\n",
    "            if (frame['KG_T'].array[i + 1] >= 0):\n",
    "                tmp_sum += tvdconv[k](frame['KG_T'].index[i + 1]) - tvdconv[k](frame['KG_T'].index[i])\n",
    "        heights.append(tmp_sum)\n",
    "    return heights\n",
    "get_heights_list()"
   ]
  },
  {
   "cell_type": "code",
   "execution_count": null,
   "id": "ad39ab1a",
   "metadata": {},
   "outputs": [],
   "source": [
    "def dist(x1,y1,x2,y2):\n",
    "    return math.sqrt((x1-x2)**2+(y1-y2)**2)\n",
    "    \n",
    "def perimeter(boundary):\n",
    "    (prev_x,prev_y) = boundary[-1]\n",
    "    perim = 0\n",
    "    for (x,y) in boundary:\n",
    "        perim += dist(x,y,prev_x,prev_y)\n",
    "        prev_x, prev_y = x,y\n",
    "    return perim\n",
    "def getCommonLength(boundary1, boundary2):\n",
    "    first_pt = -1\n",
    "    second_pt = -1\n",
    "    for i in range(int(boundary1.size/2 - 1)):\n",
    "        for j in range(int(boundary2.size/2 - 1)):\n",
    "            (x1, y1) = boundary1[i]\n",
    "            (x2, y2) = boundary2[j]\n",
    "            if(x1 == x2 and y1 == y2):\n",
    "                if first_pt == -1:\n",
    "                    first_pt = (x1,y1)\n",
    "                else:\n",
    "                    second_pt = (x2, y2)\n",
    "                    return dist(first_pt[0],first_pt[1],second_pt[0],second_pt[1])\n",
    "    return 0\n",
    "    \n"
   ]
  },
  {
   "cell_type": "code",
   "execution_count": null,
   "id": "4c3507d3",
   "metadata": {},
   "outputs": [],
   "source": [
    "import matplotlib.pyplot as plt\n",
    "import numpy as np\n",
    "import geopandas as gpd\n",
    "import contextily as ctx\n",
    "from shapely import geometry\n",
    "from shapely.ops import cascaded_union\n",
    "from geovoronoi.plotting import subplot_for_map, plot_voronoi_polys_with_points_in_area\n",
    "from geovoronoi import voronoi_regions_from_coords, points_to_coords\n",
    "from main import parse_welltracks\n",
    "\n",
    "welltracks = parse_welltracks()\n",
    "boundary = np.load(\"boundary.npy\",'r') \n",
    "\n",
    "c = np.array([(track[1][0], track[2][0]) for track in welltracks])\n",
    "s = geometry.Polygon(boundary)\n",
    "region_polys, region_pts = voronoi_regions_from_coords(c, s)\n",
    "perimeters = []\n",
    "boundaries = []\n",
    "new_polys = []\n",
    "print('len(region_polys) = ', len(region_polys))\n",
    "for i in range(len(region_polys)):\n",
    "    #print(type(region_polys[i]))\n",
    "    try:\n",
    "        new_polys.append(region_polys[i])\n",
    "        perimeters.append(perimeter(np.array(region_polys[i].boundary)))\n",
    "        boundaries.append(region_polys[i].boundary)\n",
    "    except Exception as e:\n",
    "        perimeters.append(perimeter(np.array(list(region_polys[i])[0].boundary)))\n",
    "        boundaries.append(list(region_polys[i])[0].boundary)\n"
   ]
  },
  {
   "cell_type": "code",
   "execution_count": null,
   "id": "700f13d2",
   "metadata": {},
   "outputs": [],
   "source": [
    "len(boundaries)"
   ]
  },
  {
   "cell_type": "code",
   "execution_count": null,
   "id": "ac921d52",
   "metadata": {},
   "outputs": [],
   "source": [
    "\n",
    "#print(perimeters)\n",
    "fig, ax = subplot_for_map(figsize=(15, 9), dpi=400)\n",
    "print(\"len(welltracks) = \", len(welltracks))\n",
    "for i in range(len(welltracks)):\n",
    "    ax.annotate(str(i), (welltracks[i][1][0], welltracks[i][2][0]), fontsize=7)\n",
    "plot_voronoi_polys_with_points_in_area(ax, s, region_polys, c, region_pts)\n",
    "plt.show()\n"
   ]
  },
  {
   "cell_type": "code",
   "execution_count": null,
   "id": "595e9d72",
   "metadata": {},
   "outputs": [],
   "source": [
    "\n",
    "mat_size = len(welltracks)\n",
    "print('mat size is ', mat_size)\n",
    "adj_mat = [np.array([-1 for i in range(mat_size)]) for j in range(mat_size)]\n",
    "for i in range(mat_size - 1):\n",
    "    for j in range(mat_size - 1):\n",
    "        for reg1 in region_pts[i]:\n",
    "            for reg2 in region_pts[j]:\n",
    "                if (i == j):\n",
    "                    adj_mat[reg1][reg2] = 0\n",
    "                    continue\n",
    "                adj_mat[reg1][reg2] = getCommonLength(np.array(boundaries[i]), np.array(boundaries[j]))\n",
    "                if(adj_mat[reg1][reg2] > 0):\n",
    "                    print(reg1, ' and ', reg2, ' are neibors with common length ', adj_mat[reg1][reg2])\n",
    "print(adj_mat)"
   ]
  },
  {
   "cell_type": "code",
   "execution_count": null,
   "id": "4a31046a",
   "metadata": {},
   "outputs": [],
   "source": [
    "squares = []\n",
    "for i in range(len(region_polys)):\n",
    "    squares.append(region_polys[i].area)"
   ]
  },
  {
   "cell_type": "code",
   "execution_count": null,
   "id": "2f9dea3c",
   "metadata": {},
   "outputs": [],
   "source": [
    "from get_value import get_value\n",
    "len(boundaries)"
   ]
  }
 ],
 "metadata": {
  "kernelspec": {
   "display_name": "Python 3.10.4 64-bit",
   "language": "python",
   "name": "python3"
  },
  "language_info": {
   "codemirror_mode": {
    "name": "ipython",
    "version": 3
   },
   "file_extension": ".py",
   "mimetype": "text/x-python",
   "name": "python",
   "nbconvert_exporter": "python",
   "pygments_lexer": "ipython3",
   "version": "3.10.4"
  },
  "vscode": {
   "interpreter": {
    "hash": "916dbcbb3f70747c44a77c7bcd40155683ae19c65e1c03b4aa3499c5328201f1"
   }
  }
 },
 "nbformat": 4,
 "nbformat_minor": 5
}
