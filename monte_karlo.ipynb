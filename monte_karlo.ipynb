{
 "cells": [
  {
   "cell_type": "code",
   "execution_count": null,
   "metadata": {},
   "outputs": [],
   "source": [
    "path_to_RIGIS = r'./welldata/RIGIS/'\n",
    "path_to_GIS = r'./welldata/GIS_md/'\n",
    "\n"
   ]
  }
 ],
 "metadata": {
  "kernelspec": {
   "display_name": "Python 3.9.5 64-bit",
   "language": "python",
   "name": "python3"
  },
  "language_info": {
   "name": "python",
   "version": "3.9.5"
  },
  "orig_nbformat": 4,
  "vscode": {
   "interpreter": {
    "hash": "b3abf00329507edab877ea91b872f5a8a97d6675ffffcc71208067884a009b6a"
   }
  }
 },
 "nbformat": 4,
 "nbformat_minor": 2
}
