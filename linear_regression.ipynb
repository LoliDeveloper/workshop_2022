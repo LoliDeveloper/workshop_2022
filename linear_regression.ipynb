{
 "cells": [
  {
   "cell_type": "code",
   "execution_count": null,
   "metadata": {},
   "outputs": [],
   "source": [
    "from main import getLasDataFrames\n",
    "\n",
    "path_to_GIS = r'./welldata/GIS_md/'\n",
    "\n",
    "lasDF = getLasDataFrames(path_to_GIS)"
   ]
  }
 ],
 "metadata": {
  "kernelspec": {
   "display_name": "Python 3.9.5 64-bit",
   "language": "python",
   "name": "python3"
  },
  "language_info": {
   "codemirror_mode": {
    "name": "ipython",
    "version": 3
   },
   "file_extension": ".py",
   "mimetype": "text/x-python",
   "name": "python",
   "nbconvert_exporter": "python",
   "pygments_lexer": "ipython3",
   "version": "3.9.5"
  },
  "orig_nbformat": 4,
  "vscode": {
   "interpreter": {
    "hash": "b3abf00329507edab877ea91b872f5a8a97d6675ffffcc71208067884a009b6a"
   }
  }
 },
 "nbformat": 4,
 "nbformat_minor": 2
}
